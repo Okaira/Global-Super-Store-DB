{
 "cells": [
  {
   "cell_type": "code",
   "execution_count": 12,
   "metadata": {},
   "outputs": [],
   "source": [
    "import mysql.connector as connector"
   ]
  },
  {
   "cell_type": "code",
   "execution_count": 13,
   "metadata": {},
   "outputs": [],
   "source": [
    "# Establish the connection with the database:\n",
    "\n",
    "connection = connector.connect(\n",
    "                                user = \"okaira\",\n",
    "                                password = \"opakaira\"\n",
    ")"
   ]
  },
  {
   "cell_type": "code",
   "execution_count": 14,
   "metadata": {},
   "outputs": [],
   "source": [
    "# Create a cursor object to communicate with mysql:\n",
    "\n",
    "cursor = connection.cursor()"
   ]
  },
  {
   "cell_type": "code",
   "execution_count": 15,
   "metadata": {},
   "outputs": [
    {
     "name": "stdout",
     "output_type": "stream",
     "text": [
      "Cursor is created to communicate with MySQL\n"
     ]
    }
   ],
   "source": [
    "print(\"Cursor is created to communicate with MySQL\")"
   ]
  },
  {
   "cell_type": "code",
   "execution_count": 16,
   "metadata": {},
   "outputs": [
    {
     "name": "stdout",
     "output_type": "stream",
     "text": [
      "The database 'Global_Super_Store_db' is created.\n",
      "\n",
      "The database Global_Super_Store_db is set for use.\n"
     ]
    }
   ],
   "source": [
    "# Use try-except block to create a database named \"Global_Super_Store_db\"\n",
    "# If the database already exists then drop the database first, then create it again.\n",
    "try:\n",
    "    cursor.execute(\"CREATE DATABASE Global_Super_Store_db\")\n",
    "except:\n",
    "    cursor.execute(\"DROP DATABASE Global_Super_Store_db\")\n",
    "    cursor.execute(\"CREATE DATABASE Global_Super_Store_db\")\n",
    "print(\"The database 'Global_Super_Store_db' is created.\\n\")    \n",
    "\n",
    "# Set Global_Super_Store_db for use \n",
    "cursor.execute(\"USE Global_Super_Store_db\")\n",
    "print(\"The database Global_Super_Store_db is set for use.\")"
   ]
  },
  {
   "cell_type": "code",
   "execution_count": 17,
   "metadata": {},
   "outputs": [
    {
     "name": "stdout",
     "output_type": "stream",
     "text": [
      "Customers table is created.\n",
      "\n"
     ]
    }
   ],
   "source": [
    "\n",
    "\n",
    "# The SQL query for the Customers table is: \n",
    "create_Customers_table=\"\"\"CREATE TABLE Customers (\n",
    " customerID INT,\n",
    " FullName VARCHAR(255),\n",
    " contactNumber VARCHAR(45),\n",
    " email VARCHAR(255)\n",
    ");\n",
    "\"\"\"\n",
    "\n",
    "# Create customers table\n",
    "cursor.execute(create_Customers_table)\n",
    "print(\"Customers table is created.\\n\")\n",
    "\n",
    "connection.commit()\n",
    "\n",
    "\n"
   ]
  },
  {
   "cell_type": "code",
   "execution_count": 18,
   "metadata": {},
   "outputs": [
    {
     "name": "stdout",
     "output_type": "stream",
     "text": [
      "Shipping table is created.\n",
      "\n"
     ]
    }
   ],
   "source": [
    "\n",
    "# The SQL query for the Shipping table is: \n",
    "create_Shipping_table=\"\"\"CREATE TABLE Shipping (\n",
    "ShipId INT,\n",
    "ShipDate DATE,\n",
    "ShipMode VARCHAR(45),\n",
    "AddressID INT,\n",
    "ShipCost DECIMAL,\n",
    "Orders_OrderID INT\n",
    ");\n",
    "\"\"\"\n",
    "\n",
    "# Create Shipping table\n",
    "cursor.execute(create_Shipping_table)\n",
    "print(\"Shipping table is created.\\n\")\n",
    "\n",
    "connection.commit()"
   ]
  },
  {
   "cell_type": "code",
   "execution_count": 19,
   "metadata": {},
   "outputs": [
    {
     "name": "stdout",
     "output_type": "stream",
     "text": [
      "DeliveryAddress table is created.\n",
      "\n"
     ]
    }
   ],
   "source": [
    "\n",
    "# The SQL query for the  DeliveryAddress table is: \n",
    "create_DeliveryAddress_table=\"\"\"CREATE TABLE DeliveryAddress (\n",
    "    AddressID INT,\n",
    "    Street VARCHAR(255),\n",
    "    PostCode VARCHAR(45),\n",
    "    City VARCHAR(45),\n",
    "    State VARCHAR(45),\n",
    "    Country VARCHAR(45)\n",
    ");\n",
    "\"\"\"\n",
    "\n",
    "# Create DeliveryAddress table\n",
    "cursor.execute(create_DeliveryAddress_table)\n",
    "print(\"DeliveryAddress table is created.\\n\")\n",
    "\n",
    "connection.commit()"
   ]
  },
  {
   "cell_type": "code",
   "execution_count": 20,
   "metadata": {},
   "outputs": [
    {
     "name": "stdout",
     "output_type": "stream",
     "text": [
      "Products table is created.\n",
      "\n"
     ]
    }
   ],
   "source": [
    "\n",
    "# The SQL query for the  Products table is: \n",
    "create_Products_table=\"\"\"\n",
    "CREATE TABLE Products (\n",
    "ProductID INT,\n",
    "ProductName VARCHAR(255),\n",
    "AmountInStock INT,\n",
    "Price DECIMAL,\n",
    "Category VARCHAR(45),\n",
    "Subcategory VARCHAR(45)\n",
    ");\n",
    "\"\"\"\n",
    "\n",
    "# Create Products table\n",
    "cursor.execute(create_Products_table)\n",
    "print(\"Products table is created.\\n\")\n",
    "\n",
    "connection.commit()"
   ]
  },
  {
   "cell_type": "code",
   "execution_count": 21,
   "metadata": {},
   "outputs": [
    {
     "name": "stdout",
     "output_type": "stream",
     "text": [
      "Orders table is created.\n",
      "\n"
     ]
    }
   ],
   "source": [
    "# The SQL query for the  Orders table is: \n",
    "create_Orders_table=\"\"\"CREATE TABLE Orders (\n",
    "    OrderID INT,\n",
    "    CustomerID INT,\n",
    "    ProductID INT,\n",
    "    DeliveryDate DATE,\n",
    "    Quantity INT,\n",
    "    TotalCost DECIMAL,\n",
    "    OrderPriority VARCHAR(45),\n",
    "    Discount DECIMAL,\n",
    "    ShipID INT\n",
    ");\n",
    "\"\"\"\n",
    "\n",
    "# Create Orders table\n",
    "cursor.execute(create_Orders_table)\n",
    "print(\"Orders table is created.\\n\")\n",
    "\n",
    "connection.commit()"
   ]
  },
  {
   "cell_type": "code",
   "execution_count": null,
   "metadata": {},
   "outputs": [],
   "source": []
  }
 ],
 "metadata": {
  "kernelspec": {
   "display_name": "Python 3",
   "language": "python",
   "name": "python3"
  },
  "language_info": {
   "codemirror_mode": {
    "name": "ipython",
    "version": 3
   },
   "file_extension": ".py",
   "mimetype": "text/x-python",
   "name": "python",
   "nbconvert_exporter": "python",
   "pygments_lexer": "ipython3",
   "version": "3.9.6"
  },
  "orig_nbformat": 4
 },
 "nbformat": 4,
 "nbformat_minor": 2
}
